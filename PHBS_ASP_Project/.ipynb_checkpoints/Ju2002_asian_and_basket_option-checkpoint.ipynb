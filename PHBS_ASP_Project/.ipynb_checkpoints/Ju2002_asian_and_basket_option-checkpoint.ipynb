{
 "cells": [
  {
   "cell_type": "markdown",
   "id": "crucial-importance",
   "metadata": {},
   "source": [
    "# Pricing Asian and Basket Options Via Taylor Expansion"
   ]
  },
  {
   "cell_type": "markdown",
   "id": "transparent-conviction",
   "metadata": {},
   "source": [
    "## Paper information"
   ]
  },
  {
   "cell_type": "markdown",
   "id": "great-logging",
   "metadata": {},
   "source": [
    "Ju, N. (2002). Pricing Asian and Basket Options Via Taylor Expansion. Journal of Computational Finance, 5(3), 79–103. https://doi.org/10.21314/JCF.2002.088"
   ]
  },
  {
   "cell_type": "markdown",
   "id": "posted-kingston",
   "metadata": {},
   "source": [
    "## abstract"
   ]
  },
  {
   "cell_type": "markdown",
   "id": "pregnant-netherlands",
   "metadata": {},
   "source": [
    "Asian options belong to the so-called path-dependent derivatives. They are among the most difficult to price and hedge both analytically and numerically. Basket options are even harder to price and hedge because of the large number of state variables. Several approaches have been proposed in the literature, including Monte Carlo simulations, tree-based methods, partial differential equations, and analytical approximations among others. The last category is the most appealing because most of the other methods are very complex and slow. Our method belongs to the analytical approximation class. It is based on the observation that though the weighted average of lognormal variables is no longer lognormal, it can be approximated by a lognormal random variable if the ¯rst two moments match the true ¯rst two moments. To have a better approximation, we consider the Taylor expansion of the ratio of the characteristic function of the average to that of the approximating lognormal random variable around zero volatility. We include terms up to ¾6 in the expansion. The resulting option formulas are in closed form. We treat discrete Asian option as a special case of basket options. Formulas for continuous Asian options are obtained from their discrete counterpart. Numerical tests indicate that the formulas are very accurate. Comparisons with all other leading analytical approximations show that our method has performed the best overall in terms of accuracy for both short and long maturity options. Furthermore, unlike some other methods, our approximation treats basket (portfolio) and Asian options in a unified way. Lastly, in the appendix we point out a serious mathematical error of a popular method of pricing Asian options in the literature."
   ]
  },
  {
   "cell_type": "markdown",
   "id": "medieval-scanner",
   "metadata": {},
   "source": [
    "## skeleton of model derivation"
   ]
  },
  {
   "cell_type": "markdown",
   "id": "combined-encounter",
   "metadata": {},
   "source": [
    "1. **The Price of Portfolio**：\n",
    "     +  Since we have the SDE:  \n",
    "      $$ \\frac{dS_{it}}{S_{it}} = g_idt+\\sigma_i dB_t$$, where $g_i =r-\\delta_i$, r is the riskless interest rate, $\\delta_i$ is the dividend yield, $\\sigma_i$ the volatility\n",
    "     + For every asset in basket options we have:    \n",
    "      $$ S_i (t) = S_i e^{(g_i-\\sigma_i^2/2)t+\\sigma_i w_i(t)}, i = 1, 2, ..., N$$\n",
    "     + Using $z$ to scale the volitilites, we have:    \n",
    "      $$S_i(z,t) = S_i e^{(g_i-z^2\\sigma_i^2/2)t+z\\sigma_i w_i(t)}$$\n",
    "     + So the price of  portfolio can be expressed as:     \n",
    "      $$A(z) =  \\sum_{i=1}^{N}\\chi_i S_i(z,T) = \\sum_{i=1}^{N}\\chi_i S_i e^{(g_i-z^2\\sigma_i^2/2)t+z\\sigma_i w_i(t)}$$ when z=1, we get the price we want.\n",
    "     * Payoff of a basket option is:  \n",
    "      $$BC(T)=(A(1)-K)^+$$"
   ]
  },
  {
   "cell_type": "markdown",
   "id": "sublime-musician",
   "metadata": {},
   "source": [
    "2.  **Set Up for Taylor Expansion**:\n",
    "    * Since $A(z)$ is the sum of log normal distributions, we can approximate its distribution using a lognormal distribution (Levy,1992). That is why we care about the first and second moment of it.\n",
    "        * we find the first and second moments of $A(z)$ as following:  \n",
    "        $$U_1= \\sum_{i=1}^N \\overline{S}_i=A(0)$$   \n",
    "        $$U_2(z^2)= \\sum_{i,j=1}^N \\overline{S}_i\\overline{S}_je^{z^2\\overline{\\rho}_{ij}}$$\n",
    "        * $Y(z)$is a normal distribution,with mean $m(z^2)$,variance $v(z^2)$.\n",
    "       let $U_1 = e^{m(z^2)+v(z^2)/2}$,$U_2 = e^{2m(z^2)+2v(z^2)}$, we have  \n",
    "        $$m(z^2)=2log(U_1)-1/2log(U_2(z^2))$$  \n",
    "        $$v(z^2)=log(U_2(z^2))-2log(U_1)$$    \n",
    "        * so we define $X(z)=log(A(z))$ and try to find the pdf of $X$\n",
    "      &emsp;\n",
    "    * Consider\n",
    "    $$E[e^{i\\phi X(z)}]=E[e^{i\\phi Y(z)}]\\frac{E[e^{i\\phi X(z)}]}{E[e^{i\\phi Y(z)}]}=E[e^{i\\phi Y(z)}]f(z)$$\n",
    "    $$f(z)=\\frac{E[e^{i\\phi X(z)}]}{E[e^{i\\phi Y(z)}]}$$\n",
    "    $E[e^{i\\phi Y(z)}]$ is the characteristic function of the normal variable and $f(z)$ is the ratio of the characteristic function of $X(z)$ to that of $Y(z)$, we have\n",
    "     $$f(z)=E[e^{i\\phi X(z)}]e^{-i \\phi m(z^2)+\\phi^2v(z^2)/2}$$    \n",
    "     &emsp;\n",
    "    * Expand $f(z)$ up to $z^6$, method: expand $E(e^{i\\phi X(z)})$ and $e^{-i\\phi m(z^2)+\\phi^2v(z^2)/2}$ respectively and then multiply them.   \n",
    "    &emsp;\n",
    "        * we expand $e^{-i\\phi m(z^2)+\\phi^2v(z^2)/2}$ by expanding $y=-i\\phi m(z^2)+\\phi^2v(z^2)$ to the 3rd, with the expansion of $e^y$, we get:\n",
    "        $$e^{-i\\phi m(0)+\\phi^2v(0)/2}/2 \\approx e^{-i\\phi m(0)+\\phi^2v(0)/2}/2(1-(i\\phi+\\phi^2)a_1+((i\\phi+\\phi^2)^2a_1^2-(i\\phi+\\phi^2)a_2)/2+(3(i\\phi+\\phi^2)^2a_1a_2-(i\\phi+\\phi^2)a_3-(i\\phi+\\phi^2)^3a_1^3)/6)$$\n",
    "        * since the odd order derivative is 0, we need the 2nd, 4th and 6th derivitives of $g(z)=E(e^{i\\phi X(z)})$ to get the value\n",
    "        $$g(z)\\approx g(0)+\\frac{z^2}{2}g^{''}(0)+\\frac{z^4}{24}g^{(4)}(0)+\\frac{z^6}{720}g^{(6)}(0)$$\n",
    "        * then the expansion of  $E[e^{i\\phi X(1)}]$ is: \n",
    "        $$E[e^{i\\phi X(1)}]=e^{i \\phi m(1)-\\phi^2v(1)/2}(1−i\\phi d_1(z)-\\phi^2d_2(z)+i\\phi^3d_3(z)+\\phi^4d_4(z))$$\n",
    "    *Now we multiply the two results, and we get the Taylor expansion for $f(z)$   \n",
    "    $$f(z)\\approx 1−i\\phi d_1(z)-\\phi^2d_2(z)+i\\phi^3d_3(z)+\\phi^4d_4(z)$$"
   ]
  },
  {
   "cell_type": "markdown",
   "id": "found-interpretation",
   "metadata": {},
   "source": [
    "3.  **Derive the Option Value**:\n",
    "    * The value of the option can be expressed as: $BC(T) = (A(1)-K)^+$\n",
    "    * The pdf of $X$ is given by $h(x)$\n",
    "    $$h(x)=p(x)+(d_1(1)\\frac{d}{dx}+d_2(1)\\frac{d^2}{dx^2}+d_3(1)\\frac{d^3}{dx^3}+d_4(1)\\frac{d^4}{dx^4})p(x)$$\n",
    "    where $p(x)=\\frac{1}{\\sqrt{2\\pi v(1)}}e^{-\\frac{(x-m(1))^2}{2v(1)}}$\n",
    "    * So the expectation of $[e^{X(1)}-K]^+$ is the price of the option\n",
    "    * The final option price is: $$ BC = e^{-rT} E[e^{X(1)}-K]^+ = [U_1e^{-rT}N(y_1)-Ke^{-rT}N(y_2)]+[e^{-rT}K(z_1p(y)+z_2\\frac{dp(y)}{dy}+z_3\\frac{d^2p(y)}{dy^2})]  \\tag{1}$$ \n",
    "    where $y = log(K)$, $y_1 = \\frac{m(1)-y}{\\sqrt{v(1)}}+\\sqrt{v(1)}$, $y_2 = y_1-\\sqrt{v(1)}$, and $z_1 = d_2(1) - d_3(1) +d_4(1)$, $z_2 = d_3(1) - d_4(1)$, $z_3 = d_4(1)$ "
   ]
  },
  {
   "cell_type": "markdown",
   "id": "alleged-slovenia",
   "metadata": {},
   "source": [
    "## implementation of the model"
   ]
  },
  {
   "cell_type": "markdown",
   "id": "lightweight-pontiac",
   "metadata": {},
   "source": [
    "From the analysis above we decide that our implementation should based on (1), so we need the value of parameters in (1) directly, the function of  $d_i$ and $p(\\cdot)$\n",
    "* The value of $d_i$ is depend on $a_i$, $b_i$ and $c_i$, where \n",
    "$$a_1(z)= -\\frac{z^2U^{'}_2(0)}{2U_2(0)}$$\n",
    "$$a_2(z)= 2a^2_1-\\frac{z^4U^{''}_2(0)}{2U_2(0)}$$\n",
    "$$a_3(z)= 6a_1a_2-4a^3_1-\\frac{z^6U^3_2(0)}{2U_2(0)}$$\n",
    "$$b_1(z) = \\frac{z^4}{4A^3(0)}E[A^{'2}(0)A^{''}(0)]$$\n",
    "$$b_2(z) = a^2_1(z) - a_2(z)/2$$\n",
    "$$c_1(z) = -a_1(z)b_1(z)$$\n",
    "$$c_2(z) = \\frac{z^6}{144A^4(0)}(9E[A^{'2}(0)A^{''}(0)]+4E[A^{'3}(0)A^{3}(0)])$$\n",
    "$$c_3(z) = \\frac{z^6}{48A^3(0)}(4E[A^{'2}(0)A^{''}(0)A^{3}(0)]+4E[A^{''3}(0)])$$\n",
    "$$c_4(z) = a_1(z)a_2(z)-\\frac{2}{3}a^3_1(z)-\\frac{1}{6}a_3(z)$$\n",
    "    It is worth noticing that we can define $\\overline{A}_k = \\sum^{N}_{t=1}\\overline{S}_i\\overline{\\rho}_{ik}$ to simplify the calculation.\n",
    "    So we can obtain the value of $d_i$ as:\n",
    "$$ d_1(z) = \\frac{1}{2}(6a^2_1(z)+a_2(z)-4b_1(z)+2b_2(z))-\\frac{1}{6}(120a^3_1(z)-a_3(z)+6(24c_1(z)-6c_2(z)+2c_3(z)-c_4(z)))$$\n",
    "$$ d_2(z) = \\frac{1}{2}(10a^2_1(z)+a_2(z)-6b_1(z)+2b_2(z))-(128a^3_1(z)/3-a_3(z)/6+2a_1(z)b_1(z)-a_1(z)b_2(z)+50c_1(z)-11c_2(z)+3c_3(z)-c_4(z))$$\n",
    "$$ d_3(z) = (2a^2_1(z)-b_1(z))-\\frac{1}{3}(88a^3_1(z)+3a_1(z)(5b_1(z)-2b_2(z))+3(35c_1(z)-6c_2(z)+c_3(z)))$$\n",
    "$$ d_4(z) = (-20a^3_1(z)/3+a_1(z)(-4b_1(z)+b_2(z))-10c_1(z)+c_2(z))$$\n",
    "* For parameters in (1) we have $y = log(K)$, $y_1 = \\frac{m(1)-y}{\\sqrt{v(1)}}+\\sqrt{v(1)}$, $y_2 = y_1-\\sqrt{v(1)}$, and $z_1 = d_2(1) - d_3(1) +d_4(1)$, $z_2 = d_3(1) - d_4(1)$, $z_3 = d_4(1)$ \n",
    "* And we know $p(x)=\\frac{1}{\\sqrt{2\\pi v(1)}}e^{-\\frac{(x-m(1))^2}{2v(1)}}$ so we can write our code."
   ]
  },
  {
   "cell_type": "markdown",
   "id": "subsequent-microphone",
   "metadata": {},
   "source": [
    "## Result test"
   ]
  },
  {
   "cell_type": "code",
   "execution_count": 8,
   "id": "broad-surname",
   "metadata": {},
   "outputs": [
    {
     "name": "stdout",
     "output_type": "stream",
     "text": [
      "The autoreload extension is already loaded. To reload it, use:\n",
      "  %reload_ext autoreload\n"
     ]
    }
   ],
   "source": [
    "%load_ext autoreload\n",
    "%autoreload 2"
   ]
  },
  {
   "cell_type": "code",
   "execution_count": 5,
   "id": "detected-architecture",
   "metadata": {},
   "outputs": [
    {
     "name": "stdout",
     "output_type": "stream",
     "text": [
      "<module 'pyfeng' from 'D:\\\\xuePyFENG\\\\pyfeng\\\\__init__.py'>\n"
     ]
    }
   ],
   "source": [
    "import sys\n",
    "# the route of local pyfeng\n",
    "sys.path.insert(sys.path.index('')+1,  'D:\\\\xuePyFENG')\n",
    "import pyfeng as pf"
   ]
  },
  {
   "cell_type": "markdown",
   "id": "overhead-duncan",
   "metadata": {},
   "source": [
    "### values of the weekly averaging calls (S = 100, r = 0.09, $\\delta$= 0, T = 3)\n",
    "<img src = './weekly_call_result.png'>"
   ]
  },
  {
   "cell_type": "code",
   "execution_count": 19,
   "id": "sporting-spending",
   "metadata": {
    "scrolled": true
   },
   "outputs": [
    {
     "name": "stdout",
     "output_type": "stream",
     "text": [
      "[15.1197, 11.307, 7.5562, 15.2165, 11.6393, 8.3912, 16.6362, 13.763, 11.213, 19.0174, 16.5749, 14.3767, 21.73, 19.5682, 17.5969, 24.5575, 22.6023, 20.8014]\n"
     ]
    }
   ],
   "source": [
    "spot = 100\n",
    "intr = 0.09\n",
    "divr = 0\n",
    "texp = 3\n",
    "strikes = [95,100,105] * 6\n",
    "weight = [1/156]*156\n",
    "sigmas = [0.05] *3 +[0.1]*3 +[0.2]*3 +[0.3]*3 + [0.4]*3+[0.5]*3\n",
    "TE6 = []\n",
    "for i in range(len(strikes)):\n",
    "    asian_call = pf.BsmBasketAsianJu2002(np.full(156, sigmas[i]), 0, weight, intr, divr)\n",
    "    TE6.append(round(asian_call.price(strikes[i], spot, texp, 1, False),4))\n",
    "print(TE6)"
   ]
  },
  {
   "cell_type": "markdown",
   "id": "angry-annual",
   "metadata": {},
   "source": [
    "### values of basket calls ($\\delta$ = 0, T=1)\n",
    "<img src = './basket_call_result1.png'>"
   ]
  },
  {
   "cell_type": "code",
   "execution_count": 23,
   "id": "serious-bowling",
   "metadata": {},
   "outputs": [
    {
     "name": "stdout",
     "output_type": "stream",
     "text": [
      "[14.6259, 10.3087, 8.4268, 21.3083, 8.8933, 6.5272, 22.8738, 20.2014, 2.2071, 18.6286, 12.648, 10.5184, 15.6477, 11.9198, 13.8818, 25.381, 6.8154, 4.2396, 18.336, 15.2322, 4.3967, 19.2149, 17.9022, 15.9274]\n"
     ]
    }
   ],
   "source": [
    "spot = 100\n",
    "intr = [0.05,0.1] *12\n",
    "divr = 0\n",
    "texp = 1\n",
    "cor = [0, 0, 0, 0, 0.5, 0.5, 0.5, 0.5] *3\n",
    "strikes = [90, 100, 110] * 8\n",
    "weight = [0.05, 0.15, 0.2, 0.25, 0.35]\n",
    "sigmas = [0.2, 0.2, 0.5, 0.5] *6\n",
    "TE6 = []\n",
    "for i in range(len(strikes)):\n",
    "    basket_call = pf.BsmBasketAsianJu2002(np.full(5, sigmas[i]), cor[i], weight, intr[i], divr)\n",
    "    TE6.append(round(basket_call.price(strikes[i], spot, texp, 1, True),4))\n",
    "print(TE6)"
   ]
  },
  {
   "cell_type": "markdown",
   "id": "varying-lingerie",
   "metadata": {},
   "source": [
    "### values of basket calls ($\\delta$  = 0, T=3)\n",
    "<img src = './basket_call_result3.png'>"
   ]
  },
  {
   "cell_type": "code",
   "execution_count": 25,
   "id": "bound-mapping",
   "metadata": {},
   "outputs": [
    {
     "name": "stdout",
     "output_type": "stream",
     "text": [
      "[23.0148, 26.1706, 21.0437, 37.1973, 18.5812, 21.76, 36.8255, 38.5874, 9.8013, 33.3707, 25.1394, 27.619, 24.8111, 27.5463, 29.1026, 42.7625, 15.6802, 19.4357, 29.9817, 32.1032, 13.4905, 34.01, 32.7176, 34.8388]\n"
     ]
    }
   ],
   "source": [
    "spot = 100\n",
    "intr = [0.05,0.1] *12\n",
    "divr = 0\n",
    "texp = 3\n",
    "cor = [0, 0, 0, 0, 0.5, 0.5, 0.5, 0.5] *3\n",
    "strikes = [90, 100, 110] * 8\n",
    "weight = [0.05, 0.15, 0.2, 0.25, 0.35]\n",
    "sigmas = [0.2, 0.2, 0.5, 0.5] *6\n",
    "TE6 = []\n",
    "for i in range(len(strikes)):\n",
    "    basket_call = pf.BsmBasketAsianJu2002(np.full(5, sigmas[i]), cor[i], weight, intr[i], divr)\n",
    "    TE6.append(round(basket_call.price(strikes[i], spot, texp, 1, True),4))\n",
    "print(TE6)"
   ]
  }
 ],
 "metadata": {
  "kernelspec": {
   "display_name": "Python 3",
   "language": "python",
   "name": "python3"
  },
  "language_info": {
   "codemirror_mode": {
    "name": "ipython",
    "version": 3
   },
   "file_extension": ".py",
   "mimetype": "text/x-python",
   "name": "python",
   "nbconvert_exporter": "python",
   "pygments_lexer": "ipython3",
   "version": "3.8.5"
  },
  "varInspector": {
   "cols": {
    "lenName": 16,
    "lenType": 16,
    "lenVar": 40
   },
   "kernels_config": {
    "python": {
     "delete_cmd_postfix": "",
     "delete_cmd_prefix": "del ",
     "library": "var_list.py",
     "varRefreshCmd": "print(var_dic_list())"
    },
    "r": {
     "delete_cmd_postfix": ") ",
     "delete_cmd_prefix": "rm(",
     "library": "var_list.r",
     "varRefreshCmd": "cat(var_dic_list()) "
    }
   },
   "types_to_exclude": [
    "module",
    "function",
    "builtin_function_or_method",
    "instance",
    "_Feature"
   ],
   "window_display": false
  }
 },
 "nbformat": 4,
 "nbformat_minor": 5
}
